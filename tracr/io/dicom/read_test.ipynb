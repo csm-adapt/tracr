{
 "cells": [
  {
   "cell_type": "code",
   "execution_count": 1,
   "metadata": {
    "collapsed": false
   },
   "outputs": [],
   "source": [
    "#!/usr/bin/env python\n",
    "\"\"\"\n",
    "A script that converts dicom files to an intensity voxel array\n",
    "The resulting array is 1000 x 1024 in cross section direction and 1014 \"tall\"\n",
    "\"\"\"\n",
    "\n",
    "%matplotlib inline\n",
    "import sys, os, re\n",
    "import numpy as np\n",
    "import dicom\n",
    "from matplotlib import pyplot as plt\n",
    "from errno import ENOENT\n",
    "\n",
    "def _regularize_dcm_files(dcm_files):\n",
    "    # Are we reading a file, a list of files, or files from a directory?\n",
    "    # 1. Is dcm_files a string?\n",
    "    if isinstance(dcm_files, str):\n",
    "        # yes: either a single file or a directory\n",
    "        if os.path.isdir(dcm_files):\n",
    "            # create a list of DICOM files from the contents of the directory\n",
    "            dcm_files = dcm_files.rstrip('/')\n",
    "            rval = ['{}/{}'.format(dcm_files, fname)\n",
    "            for fname in os.listdir(dcm_files)\n",
    "                if re.match(r'.*\\.dcm', fname)]\n",
    "        else:\n",
    "            # it is it's own file\n",
    "            rval = [dcm_files]\n",
    "    else:\n",
    "        # a list of actual files was passed\n",
    "        rval = list(dcm_files)\n",
    "    # IOError\n",
    "    for fname in rval:\n",
    "        # Below only works if we are in the same directory as files\n",
    "        if not os.path.isfile(fname):\n",
    "            raise IOError(ENOENT, '{} is not a file'.format, fname)\n",
    "    return rval\n"
   ]
  },
  {
   "cell_type": "code",
   "execution_count": 2,
   "metadata": {
    "collapsed": true
   },
   "outputs": [],
   "source": [
    "\n",
    "def read(dcm_files):\n",
    "\t\"\"\"\n",
    "\tRead DICOM formatted file(s).\n",
    "\n",
    "\tInput\n",
    "\t-----\n",
    "\t:dcm_files, str|iterable: DICOM file(s) to process. This understands\n",
    "\t\tthree use cases:\n",
    "\n",
    "\t\t1. `dcm_files` is a single DICOM file\n",
    "\t\t2. `dcm_files` is a list of DICOM files\n",
    "\t\t3. `dcm_files` is a directory containing DICOM files\n",
    "\n",
    "\tReturns\n",
    "\t-------\n",
    "\tTuple: (3D numpy array of intensities, pixel size)\n",
    "\t\"\"\"\n",
    "    \n",
    "\tdcm_files = _regularize_dcm_files(dcm_files)\n",
    "\tdicom_array = None\n",
    "\tfor filename in dcm_files:\n",
    "\t\tlayer = dicom.read_file(filename)\n",
    "\t\tif dicom_array is None:\n",
    "\t\t\tnrows, ncols = int(layer.Rows), int(layer.Columns)\n",
    "\t\t\tdicom_array = np.zeros((nrows, ncols, len(dcm_files)))\n",
    "\t\t\tpixel_size = 1000*np.array(layer.PixelSpacing).astype(float)\n",
    "        # Only populate a 2D array for single files sent\n",
    "        if len(dcm_files)==1:\n",
    "            dicom_array[:, :, 0] = layer.pixel_array\n",
    "        # Populate layer-wise for dicom sequences\n",
    "        else:\n",
    "            dicom_array[:, :, int(layer.InstanceNumber)-1] = layer.pixel_array\n",
    "\treturn dicom_array, pixel_size\n"
   ]
  },
  {
   "cell_type": "code",
   "execution_count": 3,
   "metadata": {
    "collapsed": false
   },
   "outputs": [
    {
     "name": "stdout",
     "output_type": "stream",
     "text": [
      "(1024, 1000, 1009)\n",
      "[ 4.497  4.497]\n"
     ]
    }
   ],
   "source": [
    "# TEST: Try passing an array containing dcm files\n",
    "dcm_array, px_size = read('P002_B001_D09_dicom')\n",
    "print dcm_array.shape\n",
    "print px_size"
   ]
  },
  {
   "cell_type": "code",
   "execution_count": 4,
   "metadata": {
    "collapsed": false
   },
   "outputs": [
    {
     "name": "stdout",
     "output_type": "stream",
     "text": [
      "(1024, 1000, 1)\n",
      "[ 4.497  4.497]\n"
     ]
    }
   ],
   "source": [
    "# TEST: Try passing a single file name\n",
    "dcm_array, px_size = read('P002_B001_D09_dicom/P002_B001_D09-0.4X_dicom.dcm0010.dcm')\n",
    "print dcm_array.shape\n",
    "print px_size\n"
   ]
  },
  {
   "cell_type": "code",
   "execution_count": 5,
   "metadata": {
    "collapsed": false
   },
   "outputs": [
    {
     "name": "stdout",
     "output_type": "stream",
     "text": [
      "(1024, 1000, 2)\n",
      "[ 4.497  4.497]\n"
     ]
    }
   ],
   "source": [
    "# TEST: Try passing a list of file names\n",
    "dcm_array, px_size = read(['P002_B001_D09_dicom/P002_B001_D09-0.4X_dicom.dcm0001.dcm', \n",
    "                            'P002_B001_D09_dicom/P002_B001_D09-0.4X_dicom.dcm0002.dcm'])\n",
    "print dcm_array.shape\n",
    "print px_size"
   ]
  },
  {
   "cell_type": "code",
   "execution_count": null,
   "metadata": {
    "collapsed": true
   },
   "outputs": [],
   "source": []
  }
 ],
 "metadata": {
  "kernelspec": {
   "display_name": "Python 2",
   "language": "python",
   "name": "python2"
  },
  "language_info": {
   "codemirror_mode": {
    "name": "ipython",
    "version": 2
   },
   "file_extension": ".py",
   "mimetype": "text/x-python",
   "name": "python",
   "nbconvert_exporter": "python",
   "pygments_lexer": "ipython2",
   "version": "2.7.10"
  }
 },
 "nbformat": 4,
 "nbformat_minor": 1
}
