{
 "cells": [
  {
   "cell_type": "code",
   "execution_count": null,
   "metadata": {
    "collapsed": false
   },
   "outputs": [],
   "source": [
    "#!/usr/bin/env python\n",
    "\n",
    "\"\"\"\n",
    "DESCRIPTION\n",
    "\n",
    "    Script for scraping process parameters and defect parameters for PCA\n",
    "    Outfitted for use with 'process_parameters.csv'\n",
    "\"\"\"\n",
    "\n",
    "from __future__ import division\n",
    "from matplotlib import pyplot as plt\n",
    "from mpl_toolkits.mplot3d import Axes3D\n",
    "import sys, os, glob\n",
    "import numpy as np\n",
    "import json\n",
    "\n",
    "def scrape_data(plate_num=['2'], feat_list=None):\n",
    "\n",
    "    # Retrieve all build features\n",
    "    build_data = np.genfromtxt('process_parameters.csv', delimiter=',',\n",
    "                                    dtype=None)\n",
    "    \n",
    "    # Obtain build features of interest\n",
    "    if feat_list==None:\n",
    "        print build_data[0,:]\n",
    "        feats = raw_input('Please enter build features as a list of strings: ')\n",
    "    else:\n",
    "        pass \n",
    "    \n",
    "    # Iterate through .json files for defect parameters\n",
    "    processed_parts = []\n",
    "    response = []\n",
    "    for f in glob.glob('*.json'):\n",
    "        data = json.loads(open(f, 'rb').read())\n",
    "        ifile = os.path.basename(f)\n",
    "        processed_parts.append(os.path.splitext(ifile)[0][:3]) \n",
    "        \n",
    "        # Obtain user specified defect parameter for regression\n",
    "        print data.keys()\n",
    "        defect = raw_input('Please enter (void specific) response variable as a string: ')\n",
    "        stat = raw_input('Please enter ')\n",
    "        if defect=='nearest neighbor distance':\n",
    "            response.append(data[defect]['values'])\n",
    "        elif defect==''\n"
   ]
  },
  {
   "cell_type": "code",
   "execution_count": null,
   "metadata": {
    "collapsed": true
   },
   "outputs": [],
   "source": [
    "\n"
   ]
  },
  {
   "cell_type": "code",
   "execution_count": null,
   "metadata": {
    "collapsed": true
   },
   "outputs": [],
   "source": []
  }
 ],
 "metadata": {
  "kernelspec": {
   "display_name": "Python 2",
   "language": "python",
   "name": "python2"
  },
  "language_info": {
   "codemirror_mode": {
    "name": "ipython",
    "version": 2
   },
   "file_extension": ".py",
   "mimetype": "text/x-python",
   "name": "python",
   "nbconvert_exporter": "python",
   "pygments_lexer": "ipython2",
   "version": "2.7.10"
  }
 },
 "nbformat": 4,
 "nbformat_minor": 1
}
