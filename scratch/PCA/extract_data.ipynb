{
 "cells": [
  {
   "cell_type": "code",
   "execution_count": 18,
   "metadata": {
    "collapsed": false
   },
   "outputs": [],
   "source": [
    "#!/usr/bin/env python\n",
    "\n",
    "\"\"\"\n",
    "DESCRIPTION\n",
    "\n",
    "    Script for scraping process parameters and defect parameters for PCA\n",
    "    Outfitted for use with 'process_parameters.csv'\n",
    "\"\"\"\n",
    "\n",
    "from __future__ import division\n",
    "from scipy import stats\n",
    "from matplotlib import pyplot as plt\n",
    "from mpl_toolkits.mplot3d import Axes3D\n",
    "import sys, os, glob\n",
    "import numpy as np\n",
    "import json\n",
    "\n",
    "def scrape_data(plate_list=['2'], feat_list=None, resp_var=None, stat_param=None):\n",
    "\n",
    "    # Retrieve all build features\n",
    "    all_build_data = np.genfromtxt('process_parameters.csv', delimiter=',',\n",
    "                                    dtype=None)\n",
    "    \n",
    "    # Obtain build features of interest\n",
    "    if feat_list==None:\n",
    "        print all_build_data[0,:]\n",
    "        feat_list = raw_input('Please enter build features as a list of strings: ')\n",
    "    print type(feat_list)\n",
    "    print feat_list\n",
    "    if not 'row' in feat_list:\n",
    "        feat_list.append('row')\n",
    "    if not 'col' in feat_list:\n",
    "        feat_list.append('col')\n",
    "    \n",
    "    idx = {}\n",
    "    idx['plate'] = np.argwhere(all_build_data[0,:]=='plate')[0][0]\n",
    "    for feat in feat_list:\n",
    "        idx[feat] = np.argwhere(all_build_data[0,:]==feat)[0][0]\n",
    "    \n",
    "     # Obtain user specified defect parameter for regression\n",
    "    if resp_var==None:\n",
    "        print json.loads(open('A13_pore-distribution.json', 'rb').read()).keys()\n",
    "        resp_var = raw_input('Please enter (void specific) response variable as a string: ')    \n",
    "    if stat_param==None:\n",
    "        stat_param = raw_input(\"Please enter statistical metric ('mean', 'median', 'mode'): \")\n",
    "\n",
    "\n",
    "    # Iterate through .json files for response parameters\n",
    "    processed_parts = []\n",
    "    response = []    \n",
    "    for f in glob.glob('*.json'):\n",
    "        data = json.loads(open(f, 'rb').read())\n",
    "        ifile = os.path.basename(f)\n",
    "        processed_parts.append(os.path.splitext(ifile)[0][:3])\n",
    "        if stat_param=='mean':\n",
    "            response.append(np.mean(data[resp_var]['values']))\n",
    "        elif stat_param=='mode':\n",
    "            response.append(stats.mode(part[resp_var]['values'],axis=None)[0][0])\n",
    "        else:\n",
    "            response.append(np.median(data[resp_var]['values']))\n",
    "    processed_parts = np.reshape(processed_parts, (len(processed_parts),1))\n",
    "    response = np.reshape(response, (len(response),1))\n",
    "       \n",
    "    # Remove zeros from part names in 'processed_parts'\n",
    "    abbrev_parts = []\n",
    "    for j in processed_parts:\n",
    "        if j[0][1]=='0':\n",
    "            abbrev_parts.append(j[0][0]+j[0][2])\n",
    "        else:\n",
    "            abbrev_parts.append(j[0])\n",
    "    np.reshape(abbrev_parts,(len(abbrev_parts),1))\n",
    "    \n",
    "    # Generate ID-response array\n",
    "    input_data = []\n",
    "    ID_response = np.concatenate((abbrev_parts, response), axis=1)\n",
    "    for sample in all_build_data:\n",
    "        if any(y==sample[idx['plate']] for y in plate_list):\n",
    "            if (any(x==(sample[idx['col']]+sample[idx['row']]) for x in abbrev_parts)):\n",
    "                match = np.argwhere((sample[idx['col']]+sample[idx['row']])==\n",
    "                                        ID_response[:,0])\n",
    "                sample = np.append(sample, ID_response[match,1:])\n",
    "                input_data.append(sample)\n",
    "        input_data = np.vstack(input_data)\n",
    "    return input_data\n",
    "    \n",
    "    "
   ]
  },
  {
   "cell_type": "code",
   "execution_count": 19,
   "metadata": {
    "collapsed": true
   },
   "outputs": [],
   "source": [
    "def pcr(data):\n",
    "    # Perform an SVD of the build data\n",
    "    u, s, v = np.linalg.svd(data[:, :-1], full_matrices=False)\n",
    "    s = np.diag(s)\n",
    "    T = np.dot(u,s)\n",
    "    \n",
    "    # Incorporate response variable for regression\n",
    "    y = data[:,-1]\n",
    "    b = np.dot(np.linalg.inv(np.dot(T.T, T)), np.dot(T.T, y))\n",
    "    \n",
    "    # Error approximation\n",
    "    e = y - np.dot(T, b)"
   ]
  },
  {
   "cell_type": "code",
   "execution_count": 20,
   "metadata": {
    "collapsed": true
   },
   "outputs": [],
   "source": [
    "def normalize(iarray):\n",
    "    return (iarray - np.mean(iarray)).np.std(iarray)"
   ]
  },
  {
   "cell_type": "code",
   "execution_count": 21,
   "metadata": {
    "collapsed": false
   },
   "outputs": [
    {
     "name": "stdout",
     "output_type": "stream",
     "text": [
      "['annealed' 'build' 'col' 'innerSkinLaserPower' 'innerSkinLaserSpeed'\n",
      " 'innerSkinLaserSpot' 'innerSkinOverlap' 'nlayers' 'polar' 'plate' 'row'\n",
      " 'sieveCount' 'skinLaserPower' 'skinLaserSpeed' 'skinLaserSpot'\n",
      " 'skinOverlap' 'azimuth' 'virgin' 'RD' 'TD']\n",
      "Please enter build features as a list of strings: ['row', 'RD']\n",
      "<type 'str'>\n",
      "['row', 'RD']\n"
     ]
    },
    {
     "ename": "AttributeError",
     "evalue": "'str' object has no attribute 'append'",
     "output_type": "error",
     "traceback": [
      "\u001b[0;31m---------------------------------------------------------------------------\u001b[0m",
      "\u001b[0;31mAttributeError\u001b[0m                            Traceback (most recent call last)",
      "\u001b[0;32m<ipython-input-21-22c286f9f33d>\u001b[0m in \u001b[0;36m<module>\u001b[0;34m()\u001b[0m\n\u001b[0;32m----> 1\u001b[0;31m \u001b[0minput_data\u001b[0m \u001b[0;34m=\u001b[0m \u001b[0mscrape_data\u001b[0m\u001b[0;34m(\u001b[0m\u001b[0;34m)\u001b[0m\u001b[0;34m\u001b[0m\u001b[0m\n\u001b[0m",
      "\u001b[0;32m<ipython-input-18-3c84ab3755df>\u001b[0m in \u001b[0;36mscrape_data\u001b[0;34m(plate_list, feat_list, resp_var, stat_param)\u001b[0m\n\u001b[1;32m     31\u001b[0m         \u001b[0mfeat_list\u001b[0m\u001b[0;34m.\u001b[0m\u001b[0mappend\u001b[0m\u001b[0;34m(\u001b[0m\u001b[0;34m'row'\u001b[0m\u001b[0;34m)\u001b[0m\u001b[0;34m\u001b[0m\u001b[0m\n\u001b[1;32m     32\u001b[0m     \u001b[0;32mif\u001b[0m \u001b[0;32mnot\u001b[0m \u001b[0;34m'col'\u001b[0m \u001b[0;32min\u001b[0m \u001b[0mfeat_list\u001b[0m\u001b[0;34m:\u001b[0m\u001b[0;34m\u001b[0m\u001b[0m\n\u001b[0;32m---> 33\u001b[0;31m         \u001b[0mfeat_list\u001b[0m\u001b[0;34m.\u001b[0m\u001b[0mappend\u001b[0m\u001b[0;34m(\u001b[0m\u001b[0;34m'col'\u001b[0m\u001b[0;34m)\u001b[0m\u001b[0;34m\u001b[0m\u001b[0m\n\u001b[0m\u001b[1;32m     34\u001b[0m \u001b[0;34m\u001b[0m\u001b[0m\n\u001b[1;32m     35\u001b[0m     \u001b[0midx\u001b[0m \u001b[0;34m=\u001b[0m \u001b[0;34m{\u001b[0m\u001b[0;34m}\u001b[0m\u001b[0;34m\u001b[0m\u001b[0m\n",
      "\u001b[0;31mAttributeError\u001b[0m: 'str' object has no attribute 'append'"
     ]
    }
   ],
   "source": [
    "input_data = scrape_data()"
   ]
  },
  {
   "cell_type": "code",
   "execution_count": null,
   "metadata": {
    "collapsed": true
   },
   "outputs": [],
   "source": []
  }
 ],
 "metadata": {
  "kernelspec": {
   "display_name": "Python 2",
   "language": "python",
   "name": "python2"
  },
  "language_info": {
   "codemirror_mode": {
    "name": "ipython",
    "version": 2
   },
   "file_extension": ".py",
   "mimetype": "text/x-python",
   "name": "python",
   "nbconvert_exporter": "python",
   "pygments_lexer": "ipython2",
   "version": "2.7.10"
  }
 },
 "nbformat": 4,
 "nbformat_minor": 1
}
