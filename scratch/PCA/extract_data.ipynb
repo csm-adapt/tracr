{
 "cells": [
  {
   "cell_type": "code",
   "execution_count": null,
   "metadata": {
    "collapsed": false
   },
   "outputs": [],
   "source": [
    "#!/usr/bin/env python\n",
    "\n",
    "\"\"\"\n",
    "DESCRIPTION\n",
    "\n",
    "    Script for scraping process parameters and defect parameters for PCA\n",
    "    Outfitted for use with 'process_parameters.csv'\n",
    "\"\"\"\n",
    "\n",
    "from __future__ import division\n",
    "from scipy import stats\n",
    "from matplotlib import pyplot as plt\n",
    "from mpl_toolkits.mplot3d import Axes3D\n",
    "import sys, os, glob\n",
    "import numpy as np\n",
    "import json\n",
    "\n",
    "def scrape_data(plate_list=['2'], feat_list=None, resp_var=None, stat_param=None):\n",
    "\n",
    "    # Retrieve all build features\n",
    "    all_build_data = np.genfromtxt('process_parameters.csv', delimiter=',',\n",
    "                                    dtype=None)\n",
    "    \n",
    "    # Obtain build features of interest\n",
    "    if feat_list==None:\n",
    "        print all_build_data[0,:]\n",
    "        feats = raw_input('Please enter build features as a list of strings: ')\n",
    "    else:\n",
    "        pass \n",
    "    \n",
    "    indexes = {}\n",
    "    indexes['plate'] = np.argwhere(all_build_data[0,:]=='plate')\n",
    "    for feat in feat_list:\n",
    "        indexes[feat] = np.argwhere(all_build_data[0,:]==feat)[0][0]\n",
    "    \n",
    "     # Obtain user specified defect parameter for regression\n",
    "    if resp_var==None:\n",
    "        print json.loads(open('A13_pore-distribution.json', 'rb').read()).keys()\n",
    "        resp_var = raw_input('Please enter (void specific) response variable as a string: ')\n",
    "    else:\n",
    "        pass    \n",
    "    if stat_param==None:\n",
    "        stat_param = raw_input(\"Please enter statistical metric ('mean', 'median', 'mode'): \")\n",
    "    else:\n",
    "        pass\n",
    "\n",
    "    # Iterate through .json files for defect parameters\n",
    "    processed_parts = []\n",
    "    response = []    \n",
    "    for f in glob.glob('*.json'):\n",
    "        data = json.loads(open(f, 'rb').read())\n",
    "        ifile = os.path.basename(f)\n",
    "        processed_parts.append(os.path.splitext(ifile)[0][:3])\n",
    "        if stat_param=='mean':\n",
    "            response.append(np.mean(data[resp_var]['values']))\n",
    "        elif stat_param=='mode':\n",
    "            response.append(stats.mode(part[resp_var]['values'],axis=None)[0][0])\n",
    "        else:\n",
    "            response.append(np.median(data[resp_var]['values']))\n",
    "    processed_parts = np.reshape(processed_parts, (len(processed_parts),1))\n",
    "    response = np.reshape(response, (len(response),1))\n",
    "       \n",
    "    # Remove zeros from part names in 'processed_parts'\n",
    "    abbrev_parts = []\n",
    "    for j in processed_parts:\n",
    "        if j[0][1]=='0':\n",
    "            abbrev_parts.append(j[0][0]+j[0][2])\n",
    "        else:\n",
    "            abbrev_parts.append(j[0])\n",
    "    np.reshape(abbrev_parts,(len(abbrev_parts),1))\n",
    "    \n",
    "    # Generate ID-response array\n",
    "    input_data = []\n",
    "    ID_response = np.concatenate(abbrev_parts, response), axis=1)\n",
    "    for sample in all_build_data:\n",
    "    if any(y==sample[plate_idx] for y in plate_list):\n",
    "        if (any(x==(sample[col_idx]+sample[row_idx]) for x in abbrev_parts)):\n",
    "            match = np.argwhere((sample[col_idx]+sample[row_idx])\n",
    "                                    ==ID_response[:,0])\n",
    "            sample = np.append(sample, ID_response[match,1:])\n",
    "            input_data.append(sample)\n",
    "    input_data = np.vstack(input_data)\n",
    "\n",
    "    \n",
    "    "
   ]
  },
  {
   "cell_type": "code",
   "execution_count": null,
   "metadata": {
    "collapsed": true
   },
   "outputs": [],
   "source": [
    "def pcr(input_data):\n",
    "    \n"
   ]
  },
  {
   "cell_type": "code",
   "execution_count": null,
   "metadata": {
    "collapsed": true
   },
   "outputs": [],
   "source": []
  }
 ],
 "metadata": {
  "kernelspec": {
   "display_name": "Python 2",
   "language": "python",
   "name": "python2"
  },
  "language_info": {
   "codemirror_mode": {
    "name": "ipython",
    "version": 2
   },
   "file_extension": ".py",
   "mimetype": "text/x-python",
   "name": "python",
   "nbconvert_exporter": "python",
   "pygments_lexer": "ipython2",
   "version": "2.7.10"
  }
 },
 "nbformat": 4,
 "nbformat_minor": 1
}
